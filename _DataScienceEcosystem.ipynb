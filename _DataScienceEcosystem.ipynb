{
 "cells": [
  {
   "cell_type": "markdown",
   "id": "2b28fabe-179c-4bd1-a506-2fab4feabd25",
   "metadata": {},
   "source": [
    "# Data Science Tools and Ecosystem\n"
   ]
  },
  {
   "cell_type": "markdown",
   "id": "b8d29984-a2b3-41c3-9149-cec6612fcc04",
   "metadata": {},
   "source": [
    "In this notebook, Data Science Tools and Ecosystem are summarized."
   ]
  },
  {
   "cell_type": "markdown",
   "id": "87d109e4-4a5e-423c-8733-e8e9a81bd51c",
   "metadata": {},
   "source": [
    "Some of the popular languages that Data Scientists use are:\n",
    "1. Python\n",
    "2. R\n",
    "3. SQL"
   ]
  },
  {
   "cell_type": "markdown",
   "id": "d5d43ec6-3021-4fee-b7bb-e0fa0a13aa7b",
   "metadata": {},
   "source": [
    "Some of the commonly used libraries used by Data Scientists include:\n",
    "\n",
    "1. NumPy\n",
    "2. Pandas\n",
    "3. Matplotlib"
   ]
  },
  {
   "cell_type": "markdown",
   "id": "98d7de2d-c7b8-48ce-b7b0-2039fb4f8cf1",
   "metadata": {},
   "source": [
    "| Data Science Tools |\n",
    "|---|---|\n",
    "| Jupyter Notebook |\n",
    "| RStudio |\n",
    "| VS Code |"
   ]
  },
  {
   "cell_type": "markdown",
   "id": "917e3b89-b1f4-4cbc-9cc7-90129cf702ea",
   "metadata": {},
   "source": [
    "### Below are a few examples of evaluating arithmetic expressions in Python\n"
   ]
  },
  {
   "cell_type": "code",
   "execution_count": 8,
   "id": "47efafbb-7922-4efa-9f20-2ea47ba02fb5",
   "metadata": {
    "tags": []
   },
   "outputs": [
    {
     "data": {
      "text/plain": [
       "17"
      ]
     },
     "execution_count": 8,
     "metadata": {},
     "output_type": "execute_result"
    }
   ],
   "source": [
    "# This is a simple arithmetic expression to multiply then add integers.\n",
    "(3 * 4) + 5"
   ]
  },
  {
   "cell_type": "code",
   "execution_count": 11,
   "id": "17f3a522-6612-4597-806b-ef1373eb1d7f",
   "metadata": {
    "tags": []
   },
   "outputs": [
    {
     "data": {
      "text/plain": [
       "3.3333333333333335"
      ]
     },
     "execution_count": 11,
     "metadata": {},
     "output_type": "execute_result"
    }
   ],
   "source": [
    "# This will convert 200 minutes to hours by dividing by 60.\n",
    "200 / 60\n",
    "\n"
   ]
  },
  {
   "cell_type": "markdown",
   "id": "d36f3a57-db0b-4322-a58a-4fdec4c7b335",
   "metadata": {},
   "source": [
    "**Objectives:**\n",
    "\n",
    "* List popular Tools for Data Science\n",
    "* Explore R Programming language\n",
    "* Understand how git works\n",
    "* Hands on experience on Jupyter lab,R and Github\n"
   ]
  },
  {
   "cell_type": "markdown",
   "id": "05906d3c-4e05-436e-8559-393bebbe0c3d",
   "metadata": {},
   "source": [
    "## Author\n",
    "Joshua S\n"
   ]
  }
 ],
 "metadata": {
  "kernelspec": {
   "display_name": "Python",
   "language": "python",
   "name": "conda-env-python-py"
  },
  "language_info": {
   "codemirror_mode": {
    "name": "ipython",
    "version": 3
   },
   "file_extension": ".py",
   "mimetype": "text/x-python",
   "name": "python",
   "nbconvert_exporter": "python",
   "pygments_lexer": "ipython3",
   "version": "3.7.12"
  }
 },
 "nbformat": 4,
 "nbformat_minor": 5
}
